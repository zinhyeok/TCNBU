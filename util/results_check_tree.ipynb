{
 "cells": [
  {
   "cell_type": "code",
   "execution_count": 134,
   "id": "9714a163",
   "metadata": {},
   "outputs": [],
   "source": [
    "import pandas as pd\n",
    "import matplotlib.pyplot as plt\n",
    "import numpy as np\n",
    "import ast "
   ]
  },
  {
   "cell_type": "code",
   "execution_count": 135,
   "id": "89f5cc33",
   "metadata": {},
   "outputs": [],
   "source": [
    "df = pd.read_csv(r'C:\\Users\\zinhyeok\\Developer\\gbottomup\\results\\multi_point_GraphStep\\20250821_145247_5\\muliple_test_model16_d500_frequency_50_20250821_145247.csv')"
   ]
  },
  {
   "cell_type": "code",
   "execution_count": 136,
   "id": "74686bf8",
   "metadata": {},
   "outputs": [
    {
     "data": {
      "text/html": [
       "<div>\n",
       "<style scoped>\n",
       "    .dataframe tbody tr th:only-of-type {\n",
       "        vertical-align: middle;\n",
       "    }\n",
       "\n",
       "    .dataframe tbody tr th {\n",
       "        vertical-align: top;\n",
       "    }\n",
       "\n",
       "    .dataframe thead th {\n",
       "        text-align: right;\n",
       "    }\n",
       "</style>\n",
       "<table border=\"1\" class=\"dataframe\">\n",
       "  <thead>\n",
       "    <tr style=\"text-align: right;\">\n",
       "      <th></th>\n",
       "      <th>scenario</th>\n",
       "      <th>seed</th>\n",
       "      <th>model</th>\n",
       "      <th>G_bottomup_tree</th>\n",
       "      <th>True_tau</th>\n",
       "      <th>G_multi_tau</th>\n",
       "      <th>G_bottomup_tau</th>\n",
       "      <th>G_multi_n_cps</th>\n",
       "      <th>G_bottomup_n_cps</th>\n",
       "      <th>G_multi_ari</th>\n",
       "      <th>G_bottomup_ari</th>\n",
       "    </tr>\n",
       "  </thead>\n",
       "  <tbody>\n",
       "    <tr>\n",
       "      <th>0</th>\n",
       "      <td>model16</td>\n",
       "      <td>0</td>\n",
       "      <td>premerge_True_c_2_None_refineFalse_minobs4_mod...</td>\n",
       "      <td>{1: [(1, np.float64(0.0)), (3, np.float64(0.0)...</td>\n",
       "      <td>[49, 99, 109, 149]</td>\n",
       "      <td>[49, 99, 109, 149]</td>\n",
       "      <td>[7, 25, 47, 73, 79, 83, 97, 99, 109, 143, 149]</td>\n",
       "      <td>4</td>\n",
       "      <td>11</td>\n",
       "      <td>1.000000</td>\n",
       "      <td>0.690384</td>\n",
       "    </tr>\n",
       "    <tr>\n",
       "      <th>1</th>\n",
       "      <td>model16</td>\n",
       "      <td>0</td>\n",
       "      <td>premerge_True_c_2_None_refineFalse_minobs6_mod...</td>\n",
       "      <td>{1: [(2, np.float64(0.0)), (5, np.float64(0.0)...</td>\n",
       "      <td>[49, 99, 109, 149]</td>\n",
       "      <td>[49, 99, 109, 149]</td>\n",
       "      <td>[38, 50, 110, 125, 131, 149, 152, 167, 182, 185]</td>\n",
       "      <td>4</td>\n",
       "      <td>10</td>\n",
       "      <td>1.000000</td>\n",
       "      <td>0.599791</td>\n",
       "    </tr>\n",
       "    <tr>\n",
       "      <th>2</th>\n",
       "      <td>model16</td>\n",
       "      <td>0</td>\n",
       "      <td>premerge_True_c_2_None_refineFalse_minobs8_mod...</td>\n",
       "      <td>{1: [(3, np.float64(0.0)), (7, np.float64(3.01...</td>\n",
       "      <td>[49, 99, 109, 149]</td>\n",
       "      <td>[49, 99, 109, 149]</td>\n",
       "      <td>[19, 47, 79, 83, 99, 107, 151, 183, 191]</td>\n",
       "      <td>4</td>\n",
       "      <td>9</td>\n",
       "      <td>1.000000</td>\n",
       "      <td>0.624897</td>\n",
       "    </tr>\n",
       "    <tr>\n",
       "      <th>3</th>\n",
       "      <td>model16</td>\n",
       "      <td>0</td>\n",
       "      <td>premerge_True_c_2_None_refineFalse_minobs10_mo...</td>\n",
       "      <td>{1: [(4, np.float64(0.0)), (9, np.float64(1.05...</td>\n",
       "      <td>[49, 99, 109, 149]</td>\n",
       "      <td>[49, 99, 109, 149]</td>\n",
       "      <td>[29, 34, 49, 99, 104, 109, 124, 149, 154]</td>\n",
       "      <td>4</td>\n",
       "      <td>9</td>\n",
       "      <td>1.000000</td>\n",
       "      <td>0.794801</td>\n",
       "    </tr>\n",
       "    <tr>\n",
       "      <th>4</th>\n",
       "      <td>model16</td>\n",
       "      <td>1</td>\n",
       "      <td>premerge_True_c_2_None_refineFalse_minobs4_mod...</td>\n",
       "      <td>{1: [(1, np.float64(0.0)), (3, np.float64(0.0)...</td>\n",
       "      <td>[49, 99, 109, 149]</td>\n",
       "      <td>[46, 49, 99, 102, 109, 149]</td>\n",
       "      <td>[15, 31, 49, 79, 101, 109, 119, 135, 137, 151,...</td>\n",
       "      <td>6</td>\n",
       "      <td>12</td>\n",
       "      <td>0.976886</td>\n",
       "      <td>0.472413</td>\n",
       "    </tr>\n",
       "  </tbody>\n",
       "</table>\n",
       "</div>"
      ],
      "text/plain": [
       "  scenario  seed                                              model                                    G_bottomup_tree            True_tau                  G_multi_tau                                     G_bottomup_tau  G_multi_n_cps  G_bottomup_n_cps  G_multi_ari  G_bottomup_ari\n",
       "0  model16     0  premerge_True_c_2_None_refineFalse_minobs4_mod...  {1: [(1, np.float64(0.0)), (3, np.float64(0.0)...  [49, 99, 109, 149]           [49, 99, 109, 149]     [7, 25, 47, 73, 79, 83, 97, 99, 109, 143, 149]              4                11     1.000000        0.690384\n",
       "1  model16     0  premerge_True_c_2_None_refineFalse_minobs6_mod...  {1: [(2, np.float64(0.0)), (5, np.float64(0.0)...  [49, 99, 109, 149]           [49, 99, 109, 149]   [38, 50, 110, 125, 131, 149, 152, 167, 182, 185]              4                10     1.000000        0.599791\n",
       "2  model16     0  premerge_True_c_2_None_refineFalse_minobs8_mod...  {1: [(3, np.float64(0.0)), (7, np.float64(3.01...  [49, 99, 109, 149]           [49, 99, 109, 149]           [19, 47, 79, 83, 99, 107, 151, 183, 191]              4                 9     1.000000        0.624897\n",
       "3  model16     0  premerge_True_c_2_None_refineFalse_minobs10_mo...  {1: [(4, np.float64(0.0)), (9, np.float64(1.05...  [49, 99, 109, 149]           [49, 99, 109, 149]          [29, 34, 49, 99, 104, 109, 124, 149, 154]              4                 9     1.000000        0.794801\n",
       "4  model16     1  premerge_True_c_2_None_refineFalse_minobs4_mod...  {1: [(1, np.float64(0.0)), (3, np.float64(0.0)...  [49, 99, 109, 149]  [46, 49, 99, 102, 109, 149]  [15, 31, 49, 79, 101, 109, 119, 135, 137, 151,...              6                12     0.976886        0.472413"
      ]
     },
     "execution_count": 136,
     "metadata": {},
     "output_type": "execute_result"
    }
   ],
   "source": [
    "df.head()"
   ]
  },
  {
   "cell_type": "code",
   "execution_count": 137,
   "id": "fe6cc44c",
   "metadata": {},
   "outputs": [
    {
     "data": {
      "text/plain": [
       "array(['premerge_True_c_2_None_refineFalse_minobs4_modeltypebase_numcp5',\n",
       "       'premerge_True_c_2_None_refineFalse_minobs6_modeltypebase_numcp5',\n",
       "       'premerge_True_c_2_None_refineFalse_minobs8_modeltypebase_numcp5',\n",
       "       'premerge_True_c_2_None_refineFalse_minobs10_modeltypebase_numcp5'],\n",
       "      dtype=object)"
      ]
     },
     "execution_count": 137,
     "metadata": {},
     "output_type": "execute_result"
    }
   ],
   "source": [
    "unique_models = df['model'].unique()\n",
    "unique_models"
   ]
  },
  {
   "cell_type": "code",
   "execution_count": 138,
   "id": "110f1042",
   "metadata": {},
   "outputs": [],
   "source": [
    "# --- 0. 모델 이름 매핑 ---\n",
    "model_name_mapping = {\n",
    "    'premerge_True_c_2_None_refineFalse_minobs4_modeltypebase_numcp5': 'Model A (minobs=4)',\n",
    "    'premerge_True_c_2_None_refineFalse_minobs6_modeltypebase_numcp5': 'Model B (minobs=6)',\n",
    "    'premerge_True_c_2_None_refineFalse_minobs8_modeltypebase_numcp5': 'Model C (minobs=8)',\n",
    "    'premerge_True_c_2_None_refineFalse_minobs10_modeltypebase_numcp5': 'Model D (minobs=10)',\n",
    "}\n",
    "df['model_name'] = df['model'].map(model_name_mapping).fillna(df['model'])"
   ]
  },
  {
   "cell_type": "code",
   "execution_count": 139,
   "id": "2051f65e",
   "metadata": {},
   "outputs": [],
   "source": [
    "def parse_tau_list(series):\n",
    "    new_series = []\n",
    "    for item in series:\n",
    "        try:\n",
    "            parsed_list = ast.literal_eval(item)\n",
    "            if isinstance(parsed_list, list):\n",
    "                if parsed_list and isinstance(parsed_list[0], tuple):\n",
    "                    new_series.append([int(t[0]) for t in parsed_list])\n",
    "                else:\n",
    "                    new_series.append([int(t) for t in parsed_list])\n",
    "            else:\n",
    "                 new_series.append([])\n",
    "        except (ValueError, SyntaxError):\n",
    "            new_series.append([])\n",
    "    return new_series\n",
    "\n",
    "df['True_tau_list'] = parse_tau_list(df['True_tau'])\n",
    "df['G_multi_tau_list'] = parse_tau_list(df['G_multi_tau'])\n",
    "df['G_bottomup_tau_list'] = parse_tau_list(df['G_bottomup_tau'])"
   ]
  },
  {
   "cell_type": "code",
   "execution_count": 140,
   "id": "1daca421",
   "metadata": {},
   "outputs": [],
   "source": [
    "df_sbs_candidates = df[['seed', 'G_multi_tau_list']].drop_duplicates(subset=['seed'])\n",
    "df_sbs_candidates.rename(columns={'G_multi_tau_list': 'sbs_candidate_list'}, inplace=True)\n",
    "\n",
    "# 기존 데이터에 SBS 후보군을 seed 기준으로 합침\n",
    "df = pd.merge(df, df_sbs_candidates, on='seed')"
   ]
  },
  {
   "cell_type": "code",
   "execution_count": 141,
   "id": "448a1dca",
   "metadata": {},
   "outputs": [],
   "source": [
    "# --- 평가 지표 계산 함수 ---\n",
    "TOLERANCE = 5"
   ]
  },
  {
   "cell_type": "code",
   "execution_count": 142,
   "id": "1a5e87c6",
   "metadata": {},
   "outputs": [],
   "source": [
    "def calculate_set_metrics(true_taus, candidate_taus, tol):\n",
    "    if not true_taus and not candidate_taus: return 1.0, 1.0, 1.0\n",
    "    if not true_taus: return 1.0, 0.0, 0.0\n",
    "    if not candidate_taus: return 0.0, 1.0, 0.0\n",
    "    tp = min(len(true_taus), sum(1 for tt in true_taus if any(abs(tt - ct) <= tol for ct in candidate_taus)))\n",
    "    fp = sum(1 for ct in candidate_taus if not any(abs(ct - tt) <= tol for tt in true_taus))\n",
    "    fn = len(true_taus) - tp\n",
    "    recall = tp / (tp + fn) if (tp + fn) > 0 else 0.0\n",
    "    precision = tp / (tp + fp) if (tp + fp) > 0 else 0.0\n",
    "    f1 = 2 * (precision * recall) / (precision + recall) if (precision + recall) > 0 else 0.0\n",
    "    return recall, precision, f1"
   ]
  },
  {
   "cell_type": "code",
   "execution_count": 143,
   "id": "39aa77c3",
   "metadata": {},
   "outputs": [],
   "source": [
    "def calculate_modified_jaccard(set_a, set_b, tol):\n",
    "    if not set_a and not set_b: return 1.0\n",
    "    matches_a = {i for i, a in enumerate(set_a) if any(abs(a - b) <= tol for b in set_b)}\n",
    "    matches_b = {i for i, b in enumerate(set_b) if any(abs(b - a) <= tol for a in set_a)}\n",
    "    intersection_size = (len(matches_a) + len(matches_b)) / 2.0\n",
    "    union_size = len(set_a) + len(set_b) - intersection_size\n",
    "    return intersection_size / union_size if union_size > 0 else 0.0"
   ]
  },
  {
   "cell_type": "code",
   "execution_count": 144,
   "id": "90e872aa",
   "metadata": {},
   "outputs": [
    {
     "name": "stderr",
     "output_type": "stream",
     "text": [
      "C:\\Users\\zinhyeok\\AppData\\Local\\Temp\\ipykernel_22364\\3433494013.py:2: SettingWithCopyWarning: \n",
      "A value is trying to be set on a copy of a slice from a DataFrame\n",
      "\n",
      "See the caveats in the documentation: https://pandas.pydata.org/pandas-docs/stable/user_guide/indexing.html#returning-a-view-versus-a-copy\n",
      "  df_main_models.rename(columns={'G_bottomup_tau_list': 'candidate_tau_list'}, inplace=True)\n"
     ]
    }
   ],
   "source": [
    "df_main_models = df[['seed', 'model_name', 'True_tau_list', 'G_bottomup_tau_list']]\n",
    "df_main_models.rename(columns={'G_bottomup_tau_list': 'candidate_tau_list'}, inplace=True)\n",
    "df_sbs = df[['seed', 'True_tau_list', 'sbs_candidate_list']].drop_duplicates(subset=['seed'])\n",
    "df_sbs['model_name'] = 'SBS_Baseline'\n",
    "df_sbs.rename(columns={'sbs_candidate_list': 'candidate_tau_list'}, inplace=True)\n",
    "df_all = pd.concat([df_main_models, df_sbs], ignore_index=True)"
   ]
  },
  {
   "cell_type": "code",
   "execution_count": 145,
   "id": "753ece6e",
   "metadata": {},
   "outputs": [],
   "source": [
    "metrics = df_all.apply(lambda row: calculate_set_metrics(row['True_tau_list'], row['candidate_tau_list'], TOLERANCE), axis=1, result_type='expand')\n",
    "df_all[['recall', 'precision', 'f1_score']] = metrics\n",
    "performance_summary = df_all.groupby('model_name')[['recall', 'precision', 'f1_score']].mean()\n"
   ]
  },
  {
   "cell_type": "code",
   "execution_count": 146,
   "id": "7292df9d",
   "metadata": {},
   "outputs": [],
   "source": [
    "df['jaccard_vs_sbs'] = df.apply(\n",
    "    lambda row: calculate_modified_jaccard(row['G_bottomup_tau_list'], row['sbs_candidate_list'], TOLERANCE),\n",
    "    axis=1\n",
    ")\n",
    "jaccard_summary = df.groupby('model_name')[['jaccard_vs_sbs']].mean()"
   ]
  },
  {
   "cell_type": "code",
   "execution_count": 147,
   "id": "d7775cb8",
   "metadata": {},
   "outputs": [],
   "source": [
    "final_summary = pd.concat([performance_summary, jaccard_summary], axis=1)"
   ]
  },
  {
   "cell_type": "code",
   "execution_count": 148,
   "id": "6c257f03",
   "metadata": {},
   "outputs": [],
   "source": [
    "model_order = [\n",
    "    'SBS_Baseline',\n",
    "    'Model A (minobs=4)',\n",
    "    'Model B (minobs=6)',\n",
    "    'Model C (minobs=8)',\n",
    "    'Model D (minobs=10)'\n",
    "]"
   ]
  },
  {
   "cell_type": "code",
   "execution_count": 149,
   "id": "d3fa08fc",
   "metadata": {},
   "outputs": [],
   "source": [
    "final_summary = final_summary.reindex(model_order)"
   ]
  },
  {
   "cell_type": "code",
   "execution_count": 150,
   "id": "9ceb05be",
   "metadata": {},
   "outputs": [
    {
     "data": {
      "text/html": [
       "<div>\n",
       "<style scoped>\n",
       "    .dataframe tbody tr th:only-of-type {\n",
       "        vertical-align: middle;\n",
       "    }\n",
       "\n",
       "    .dataframe tbody tr th {\n",
       "        vertical-align: top;\n",
       "    }\n",
       "\n",
       "    .dataframe thead th {\n",
       "        text-align: right;\n",
       "    }\n",
       "</style>\n",
       "<table border=\"1\" class=\"dataframe\">\n",
       "  <thead>\n",
       "    <tr style=\"text-align: right;\">\n",
       "      <th></th>\n",
       "      <th>recall</th>\n",
       "      <th>precision</th>\n",
       "      <th>f1_score</th>\n",
       "      <th>jaccard_vs_sbs</th>\n",
       "    </tr>\n",
       "    <tr>\n",
       "      <th>model_name</th>\n",
       "      <th></th>\n",
       "      <th></th>\n",
       "      <th></th>\n",
       "      <th></th>\n",
       "    </tr>\n",
       "  </thead>\n",
       "  <tbody>\n",
       "    <tr>\n",
       "      <th>SBS_Baseline</th>\n",
       "      <td>1.0000</td>\n",
       "      <td>0.799714</td>\n",
       "      <td>0.881293</td>\n",
       "      <td>NaN</td>\n",
       "    </tr>\n",
       "    <tr>\n",
       "      <th>Model A (minobs=4)</th>\n",
       "      <td>0.9575</td>\n",
       "      <td>0.397448</td>\n",
       "      <td>0.554383</td>\n",
       "      <td>0.470833</td>\n",
       "    </tr>\n",
       "    <tr>\n",
       "      <th>Model B (minobs=6)</th>\n",
       "      <td>0.9800</td>\n",
       "      <td>0.431322</td>\n",
       "      <td>0.593026</td>\n",
       "      <td>0.496512</td>\n",
       "    </tr>\n",
       "    <tr>\n",
       "      <th>Model C (minobs=8)</th>\n",
       "      <td>0.9200</td>\n",
       "      <td>0.444083</td>\n",
       "      <td>0.589235</td>\n",
       "      <td>0.492022</td>\n",
       "    </tr>\n",
       "    <tr>\n",
       "      <th>Model D (minobs=10)</th>\n",
       "      <td>1.0000</td>\n",
       "      <td>0.428755</td>\n",
       "      <td>0.594158</td>\n",
       "      <td>0.489231</td>\n",
       "    </tr>\n",
       "  </tbody>\n",
       "</table>\n",
       "</div>"
      ],
      "text/plain": [
       "                     recall  precision  f1_score  jaccard_vs_sbs\n",
       "model_name                                                      \n",
       "SBS_Baseline         1.0000   0.799714  0.881293             NaN\n",
       "Model A (minobs=4)   0.9575   0.397448  0.554383        0.470833\n",
       "Model B (minobs=6)   0.9800   0.431322  0.593026        0.496512\n",
       "Model C (minobs=8)   0.9200   0.444083  0.589235        0.492022\n",
       "Model D (minobs=10)  1.0000   0.428755  0.594158        0.489231"
      ]
     },
     "execution_count": 150,
     "metadata": {},
     "output_type": "execute_result"
    }
   ],
   "source": [
    "final_summary"
   ]
  },
  {
   "cell_type": "code",
   "execution_count": 151,
   "id": "147f7ff9",
   "metadata": {},
   "outputs": [
    {
     "name": "stdout",
     "output_type": "stream",
     "text": [
      "### 최종 모델별 성능 및 SBS 유사도 비교 (평균) ###\n",
      "사용한 Tolerance (허용 오차): 5\n",
      "\n"
     ]
    },
    {
     "data": {
      "text/html": [
       "<div>\n",
       "<style scoped>\n",
       "    .dataframe tbody tr th:only-of-type {\n",
       "        vertical-align: middle;\n",
       "    }\n",
       "\n",
       "    .dataframe tbody tr th {\n",
       "        vertical-align: top;\n",
       "    }\n",
       "\n",
       "    .dataframe thead th {\n",
       "        text-align: right;\n",
       "    }\n",
       "</style>\n",
       "<table border=\"1\" class=\"dataframe\">\n",
       "  <thead>\n",
       "    <tr style=\"text-align: right;\">\n",
       "      <th></th>\n",
       "      <th>recall</th>\n",
       "      <th>precision</th>\n",
       "      <th>f1_score</th>\n",
       "      <th>jaccard_vs_sbs</th>\n",
       "    </tr>\n",
       "    <tr>\n",
       "      <th>model_name</th>\n",
       "      <th></th>\n",
       "      <th></th>\n",
       "      <th></th>\n",
       "      <th></th>\n",
       "    </tr>\n",
       "  </thead>\n",
       "  <tbody>\n",
       "    <tr>\n",
       "      <th>SBS_Baseline</th>\n",
       "      <td>1.0000</td>\n",
       "      <td>0.7997</td>\n",
       "      <td>0.8813</td>\n",
       "      <td>NaN</td>\n",
       "    </tr>\n",
       "    <tr>\n",
       "      <th>Model A (minobs=4)</th>\n",
       "      <td>0.9575</td>\n",
       "      <td>0.3974</td>\n",
       "      <td>0.5544</td>\n",
       "      <td>0.4708</td>\n",
       "    </tr>\n",
       "    <tr>\n",
       "      <th>Model B (minobs=6)</th>\n",
       "      <td>0.9800</td>\n",
       "      <td>0.4313</td>\n",
       "      <td>0.5930</td>\n",
       "      <td>0.4965</td>\n",
       "    </tr>\n",
       "    <tr>\n",
       "      <th>Model C (minobs=8)</th>\n",
       "      <td>0.9200</td>\n",
       "      <td>0.4441</td>\n",
       "      <td>0.5892</td>\n",
       "      <td>0.4920</td>\n",
       "    </tr>\n",
       "    <tr>\n",
       "      <th>Model D (minobs=10)</th>\n",
       "      <td>1.0000</td>\n",
       "      <td>0.4288</td>\n",
       "      <td>0.5942</td>\n",
       "      <td>0.4892</td>\n",
       "    </tr>\n",
       "  </tbody>\n",
       "</table>\n",
       "</div>"
      ],
      "text/plain": [
       "                     recall  precision  f1_score  jaccard_vs_sbs\n",
       "model_name                                                      \n",
       "SBS_Baseline         1.0000     0.7997    0.8813             NaN\n",
       "Model A (minobs=4)   0.9575     0.3974    0.5544          0.4708\n",
       "Model B (minobs=6)   0.9800     0.4313    0.5930          0.4965\n",
       "Model C (minobs=8)   0.9200     0.4441    0.5892          0.4920\n",
       "Model D (minobs=10)  1.0000     0.4288    0.5942          0.4892"
      ]
     },
     "execution_count": 151,
     "metadata": {},
     "output_type": "execute_result"
    }
   ],
   "source": [
    "print(\"### 최종 모델별 성능 및 SBS 유사도 비교 (평균) ###\")\n",
    "print(f\"사용한 Tolerance (허용 오차): {TOLERANCE}\\n\")\n",
    "pd.set_option('display.width', 1000)\n",
    "final_summary =final_summary.round(4)\n",
    "final_summary"
   ]
  },
  {
   "cell_type": "code",
   "execution_count": 152,
   "id": "b720d41b",
   "metadata": {},
   "outputs": [],
   "source": [
    "output_filename = 'analysis_results_final.csv'\n",
    "final_summary.to_csv(output_filename, index=False)"
   ]
  },
  {
   "cell_type": "code",
   "execution_count": null,
   "id": "c8f39aad",
   "metadata": {},
   "outputs": [],
   "source": []
  }
 ],
 "metadata": {
  "kernelspec": {
   "display_name": "gBottomup",
   "language": "python",
   "name": "python3"
  },
  "language_info": {
   "codemirror_mode": {
    "name": "ipython",
    "version": 3
   },
   "file_extension": ".py",
   "mimetype": "text/x-python",
   "name": "python",
   "nbconvert_exporter": "python",
   "pygments_lexer": "ipython3",
   "version": "3.10.18"
  }
 },
 "nbformat": 4,
 "nbformat_minor": 5
}
